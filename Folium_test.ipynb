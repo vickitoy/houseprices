{
 "cells": [
  {
   "cell_type": "code",
   "execution_count": 153,
   "metadata": {
    "collapsed": false
   },
   "outputs": [],
   "source": [
    "import folium\n",
    "import sys\n",
    "import pandas as pd\n",
    "import geopandas as gpd\n",
    "sys.path.insert(0, 'python_scripts')"
   ]
  },
  {
   "cell_type": "code",
   "execution_count": 200,
   "metadata": {
    "collapsed": false
   },
   "outputs": [],
   "source": [
    "import sql_functions\n",
    "reload(sql_functions)\n",
    "month = '1996_06'"
   ]
  },
  {
   "cell_type": "code",
   "execution_count": 201,
   "metadata": {
    "collapsed": true
   },
   "outputs": [],
   "source": [
    "sh = sql_functions.statehouse()"
   ]
  },
  {
   "cell_type": "code",
   "execution_count": 233,
   "metadata": {
    "collapsed": false
   },
   "outputs": [
    {
     "name": "stdout",
     "output_type": "stream",
     "text": [
      "    regionName  1996_06\n",
      "0        21234    98215\n",
      "1        20906   144925\n",
      "2        21740    82825\n",
      "3        21117   156748\n",
      "4        20878   212161\n",
      "5        21215    58725\n",
      "6        21222    74525\n",
      "7        21122   125425\n",
      "8        20874   147660\n",
      "9        21224    53400\n",
      "10       21061   111903\n",
      "11       20852   185435\n",
      "12       20904   166800\n",
      "13       20910   188100\n",
      "14       21218    42325\n",
      "15       21206    71265\n",
      "16       21207    85213\n",
      "17       21228   120600\n",
      "18       20744   153375\n",
      "19       20850   235890\n",
      "20       21229    72765\n",
      "21       20774   152450\n",
      "22       21044   172947\n",
      "23       21221    84100\n",
      "24       21401   148690\n",
      "25       21502    46700\n",
      "26       20902   145150\n",
      "27       21043   195725\n",
      "28       20854   302750\n",
      "29       21921   117790\n",
      "..         ...      ...\n",
      "244      21710        0\n",
      "245      21782        0\n",
      "246      21919        0\n",
      "247      21830        0\n",
      "248      21658        0\n",
      "249      21660        0\n",
      "250      21915        0\n",
      "251      21661        0\n",
      "252      21140        0\n",
      "253      21561        0\n",
      "254      20676        0\n",
      "255      21756        0\n",
      "256      21850        0\n",
      "257      20623        0\n",
      "258      20688        0\n",
      "259      21562        0\n",
      "260      20777        0\n",
      "261      20733        0\n",
      "262      21053        0\n",
      "263      21738        0\n",
      "264      21541        0\n",
      "265      20751        0\n",
      "266      21798        0\n",
      "267      21635        0\n",
      "268      21917        0\n",
      "269      20860        0\n",
      "270      21777        0\n",
      "271      21640        0\n",
      "272      20625        0\n",
      "273      21861        0\n",
      "\n",
      "[274 rows x 2 columns]\n",
      "    regionName  1996_06\n",
      "0        21234    98215\n",
      "1        20906   144925\n",
      "2        21740    82825\n",
      "3        21117   156748\n",
      "4        20878   212161\n",
      "5        21215    58725\n",
      "6        21222    74525\n",
      "7        21122   125425\n",
      "8        20874   147660\n",
      "9        21224    53400\n",
      "10       21061   111903\n",
      "11       20852   185435\n",
      "12       20904   166800\n",
      "13       20910   188100\n",
      "14       21218    42325\n",
      "15       21206    71265\n",
      "16       21207    85213\n",
      "17       21228   120600\n",
      "18       20744   153375\n",
      "19       20850   235890\n",
      "20       21229    72765\n",
      "21       20774   152450\n",
      "22       21044   172947\n",
      "23       21221    84100\n",
      "24       21401   148690\n",
      "25       21502    46700\n",
      "26       20902   145150\n",
      "27       21043   195725\n",
      "28       20854   302750\n",
      "29       21921   117790\n",
      "..         ...      ...\n",
      "244      21710        0\n",
      "245      21782        0\n",
      "246      21919        0\n",
      "247      21830        0\n",
      "248      21658        0\n",
      "249      21660        0\n",
      "250      21915        0\n",
      "251      21661        0\n",
      "252      21140        0\n",
      "253      21561        0\n",
      "254      20676        0\n",
      "255      21756        0\n",
      "256      21850        0\n",
      "257      20623        0\n",
      "258      20688        0\n",
      "259      21562        0\n",
      "260      20777        0\n",
      "261      20733        0\n",
      "262      21053        0\n",
      "263      21738        0\n",
      "264      21541        0\n",
      "265      20751        0\n",
      "266      21798        0\n",
      "267      21635        0\n",
      "268      21917        0\n",
      "269      20860        0\n",
      "270      21777        0\n",
      "271      21640        0\n",
      "272      20625        0\n",
      "273      21861        0\n",
      "\n",
      "[274 rows x 2 columns]\n"
     ]
    }
   ],
   "source": [
    "j=sh.iloc[:,[2,10]]\n",
    "df = sh[['regionName',month]]\n",
    "print df\n",
    "print j\n",
    "j =j[j[month] > 0]\n",
    "#j.filter(like='arg in '+month+' > 0')"
   ]
  },
  {
   "cell_type": "code",
   "execution_count": 208,
   "metadata": {
    "collapsed": false
   },
   "outputs": [],
   "source": [
    "json_path = 'topo_files/MD_zip.json'\n",
    "gdf = gpd.read_file(json_path)"
   ]
  },
  {
   "cell_type": "code",
   "execution_count": 209,
   "metadata": {
    "collapsed": false
   },
   "outputs": [
    {
     "data": {
      "text/html": [
       "<div>\n",
       "<table border=\"1\" class=\"dataframe\">\n",
       "  <thead>\n",
       "    <tr style=\"text-align: right;\">\n",
       "      <th></th>\n",
       "      <th>ALAND10</th>\n",
       "      <th>AWATER10</th>\n",
       "      <th>CLASSFP10</th>\n",
       "      <th>FUNCSTAT10</th>\n",
       "      <th>GEOID10</th>\n",
       "      <th>INTPTLAT10</th>\n",
       "      <th>INTPTLON10</th>\n",
       "      <th>MTFCC10</th>\n",
       "      <th>PARTFLG10</th>\n",
       "      <th>STATEFP10</th>\n",
       "      <th>ZCTA5CE10</th>\n",
       "      <th>geometry</th>\n",
       "    </tr>\n",
       "  </thead>\n",
       "  <tbody>\n",
       "    <tr>\n",
       "      <th>0</th>\n",
       "      <td>9382408</td>\n",
       "      <td>85941</td>\n",
       "      <td>B5</td>\n",
       "      <td>S</td>\n",
       "      <td>2421529</td>\n",
       "      <td>+39.7039417</td>\n",
       "      <td>-078.7671714</td>\n",
       "      <td>G6350</td>\n",
       "      <td>N</td>\n",
       "      <td>24</td>\n",
       "      <td>21529</td>\n",
       "      <td>POLYGON ((-78.77455500000001 39.72298, -78.774...</td>\n",
       "    </tr>\n",
       "    <tr>\n",
       "      <th>1</th>\n",
       "      <td>41454184</td>\n",
       "      <td>0</td>\n",
       "      <td>B5</td>\n",
       "      <td>S</td>\n",
       "      <td>2421144</td>\n",
       "      <td>+39.1209124</td>\n",
       "      <td>-076.6772681</td>\n",
       "      <td>G6350</td>\n",
       "      <td>N</td>\n",
       "      <td>24</td>\n",
       "      <td>21144</td>\n",
       "      <td>POLYGON ((-76.687494 39.149036, -76.6875090000...</td>\n",
       "    </tr>\n",
       "    <tr>\n",
       "      <th>2</th>\n",
       "      <td>33861012</td>\n",
       "      <td>186378</td>\n",
       "      <td>B5</td>\n",
       "      <td>S</td>\n",
       "      <td>2421108</td>\n",
       "      <td>+39.0912665</td>\n",
       "      <td>-076.6210983</td>\n",
       "      <td>G6350</td>\n",
       "      <td>N</td>\n",
       "      <td>24</td>\n",
       "      <td>21108</td>\n",
       "      <td>(POLYGON ((-76.636743 39.123324, -76.63687 39....</td>\n",
       "    </tr>\n",
       "    <tr>\n",
       "      <th>3</th>\n",
       "      <td>32403463</td>\n",
       "      <td>2722648</td>\n",
       "      <td>B5</td>\n",
       "      <td>S</td>\n",
       "      <td>2421060</td>\n",
       "      <td>+39.1697908</td>\n",
       "      <td>-076.5808725</td>\n",
       "      <td>G6350</td>\n",
       "      <td>N</td>\n",
       "      <td>24</td>\n",
       "      <td>21060</td>\n",
       "      <td>POLYGON ((-76.584621 39.134111, -76.5849330000...</td>\n",
       "    </tr>\n",
       "    <tr>\n",
       "      <th>4</th>\n",
       "      <td>109677132</td>\n",
       "      <td>3354891</td>\n",
       "      <td>B5</td>\n",
       "      <td>S</td>\n",
       "      <td>2421120</td>\n",
       "      <td>+39.6462041</td>\n",
       "      <td>-076.6748540</td>\n",
       "      <td>G6350</td>\n",
       "      <td>N</td>\n",
       "      <td>24</td>\n",
       "      <td>21120</td>\n",
       "      <td>POLYGON ((-76.63052500000001 39.652713, -76.62...</td>\n",
       "    </tr>\n",
       "  </tbody>\n",
       "</table>\n",
       "</div>"
      ],
      "text/plain": [
       "     ALAND10  AWATER10 CLASSFP10 FUNCSTAT10  GEOID10   INTPTLAT10  \\\n",
       "0    9382408     85941        B5          S  2421529  +39.7039417   \n",
       "1   41454184         0        B5          S  2421144  +39.1209124   \n",
       "2   33861012    186378        B5          S  2421108  +39.0912665   \n",
       "3   32403463   2722648        B5          S  2421060  +39.1697908   \n",
       "4  109677132   3354891        B5          S  2421120  +39.6462041   \n",
       "\n",
       "     INTPTLON10 MTFCC10 PARTFLG10 STATEFP10 ZCTA5CE10  \\\n",
       "0  -078.7671714   G6350         N        24     21529   \n",
       "1  -076.6772681   G6350         N        24     21144   \n",
       "2  -076.6210983   G6350         N        24     21108   \n",
       "3  -076.5808725   G6350         N        24     21060   \n",
       "4  -076.6748540   G6350         N        24     21120   \n",
       "\n",
       "                                            geometry  \n",
       "0  POLYGON ((-78.77455500000001 39.72298, -78.774...  \n",
       "1  POLYGON ((-76.687494 39.149036, -76.6875090000...  \n",
       "2  (POLYGON ((-76.636743 39.123324, -76.63687 39....  \n",
       "3  POLYGON ((-76.584621 39.134111, -76.5849330000...  \n",
       "4  POLYGON ((-76.63052500000001 39.652713, -76.62...  "
      ]
     },
     "execution_count": 209,
     "metadata": {},
     "output_type": "execute_result"
    }
   ],
   "source": [
    "gdf.head()"
   ]
  },
  {
   "cell_type": "code",
   "execution_count": 210,
   "metadata": {
    "collapsed": true
   },
   "outputs": [],
   "source": [
    "merged = gdf.merge(j, left_on='ZCTA5CE10', right_on='regionName')"
   ]
  },
  {
   "cell_type": "code",
   "execution_count": 211,
   "metadata": {
    "collapsed": false
   },
   "outputs": [
    {
     "data": {
      "text/html": [
       "<div>\n",
       "<table border=\"1\" class=\"dataframe\">\n",
       "  <thead>\n",
       "    <tr style=\"text-align: right;\">\n",
       "      <th></th>\n",
       "      <th>geometry</th>\n",
       "      <th>regionName</th>\n",
       "    </tr>\n",
       "  </thead>\n",
       "  <tbody>\n",
       "    <tr>\n",
       "      <th>0</th>\n",
       "      <td>POLYGON ((-76.687494 39.149036, -76.6875090000...</td>\n",
       "      <td>21144</td>\n",
       "    </tr>\n",
       "    <tr>\n",
       "      <th>1</th>\n",
       "      <td>POLYGON ((-76.584621 39.134111, -76.5849330000...</td>\n",
       "      <td>21060</td>\n",
       "    </tr>\n",
       "    <tr>\n",
       "      <th>2</th>\n",
       "      <td>POLYGON ((-76.63052500000001 39.652713, -76.62...</td>\n",
       "      <td>21120</td>\n",
       "    </tr>\n",
       "    <tr>\n",
       "      <th>3</th>\n",
       "      <td>POLYGON ((-76.516238 39.356892, -76.5174240000...</td>\n",
       "      <td>21236</td>\n",
       "    </tr>\n",
       "    <tr>\n",
       "      <th>4</th>\n",
       "      <td>POLYGON ((-76.75212399999999 39.306124, -76.75...</td>\n",
       "      <td>21228</td>\n",
       "    </tr>\n",
       "  </tbody>\n",
       "</table>\n",
       "</div>"
      ],
      "text/plain": [
       "                                            geometry regionName\n",
       "0  POLYGON ((-76.687494 39.149036, -76.6875090000...      21144\n",
       "1  POLYGON ((-76.584621 39.134111, -76.5849330000...      21060\n",
       "2  POLYGON ((-76.63052500000001 39.652713, -76.62...      21120\n",
       "3  POLYGON ((-76.516238 39.356892, -76.5174240000...      21236\n",
       "4  POLYGON ((-76.75212399999999 39.306124, -76.75...      21228"
      ]
     },
     "execution_count": 211,
     "metadata": {},
     "output_type": "execute_result"
    }
   ],
   "source": [
    "merged.iloc[:,[11,12]].head()"
   ]
  },
  {
   "cell_type": "code",
   "execution_count": 212,
   "metadata": {
    "collapsed": true
   },
   "outputs": [],
   "source": [
    "spatial_gdf = gpd.GeoDataFrame(merged.iloc[:, [11, 12]])"
   ]
  },
  {
   "cell_type": "code",
   "execution_count": 213,
   "metadata": {
    "collapsed": true
   },
   "outputs": [],
   "source": [
    "data_f = merged.iloc[:, [11,12,13]]"
   ]
  },
  {
   "cell_type": "code",
   "execution_count": 214,
   "metadata": {
    "collapsed": false
   },
   "outputs": [
    {
     "data": {
      "text/html": [
       "<div>\n",
       "<table border=\"1\" class=\"dataframe\">\n",
       "  <thead>\n",
       "    <tr style=\"text-align: right;\">\n",
       "      <th></th>\n",
       "      <th>geometry</th>\n",
       "      <th>regionName</th>\n",
       "      <th>1996_06</th>\n",
       "    </tr>\n",
       "  </thead>\n",
       "  <tbody>\n",
       "    <tr>\n",
       "      <th>0</th>\n",
       "      <td>POLYGON ((-76.687494 39.149036, -76.6875090000...</td>\n",
       "      <td>21144</td>\n",
       "      <td>150685</td>\n",
       "    </tr>\n",
       "    <tr>\n",
       "      <th>1</th>\n",
       "      <td>POLYGON ((-76.584621 39.134111, -76.5849330000...</td>\n",
       "      <td>21060</td>\n",
       "      <td>112600</td>\n",
       "    </tr>\n",
       "    <tr>\n",
       "      <th>2</th>\n",
       "      <td>POLYGON ((-76.63052500000001 39.652713, -76.62...</td>\n",
       "      <td>21120</td>\n",
       "      <td>228000</td>\n",
       "    </tr>\n",
       "    <tr>\n",
       "      <th>3</th>\n",
       "      <td>POLYGON ((-76.516238 39.356892, -76.5174240000...</td>\n",
       "      <td>21236</td>\n",
       "      <td>106820</td>\n",
       "    </tr>\n",
       "    <tr>\n",
       "      <th>4</th>\n",
       "      <td>POLYGON ((-76.75212399999999 39.306124, -76.75...</td>\n",
       "      <td>21228</td>\n",
       "      <td>120600</td>\n",
       "    </tr>\n",
       "  </tbody>\n",
       "</table>\n",
       "</div>"
      ],
      "text/plain": [
       "                                            geometry regionName  1996_06\n",
       "0  POLYGON ((-76.687494 39.149036, -76.6875090000...      21144   150685\n",
       "1  POLYGON ((-76.584621 39.134111, -76.5849330000...      21060   112600\n",
       "2  POLYGON ((-76.63052500000001 39.652713, -76.62...      21120   228000\n",
       "3  POLYGON ((-76.516238 39.356892, -76.5174240000...      21236   106820\n",
       "4  POLYGON ((-76.75212399999999 39.306124, -76.75...      21228   120600"
      ]
     },
     "execution_count": 214,
     "metadata": {},
     "output_type": "execute_result"
    }
   ],
   "source": [
    "data_f.head()"
   ]
  },
  {
   "cell_type": "code",
   "execution_count": 235,
   "metadata": {
    "collapsed": false
   },
   "outputs": [],
   "source": [
    "geo_str = spatial_gdf.to_json()"
   ]
  },
  {
   "cell_type": "code",
   "execution_count": 227,
   "metadata": {
    "collapsed": false
   },
   "outputs": [
    {
     "data": {
      "text/plain": [
       "<folium.map.TileLayer at 0x119e18510>"
      ]
     },
     "execution_count": 227,
     "metadata": {},
     "output_type": "execute_result"
    }
   ],
   "source": [
    "map = folium.Map(location=[38.9784, -76.4922], zoom_start=9)\n",
    "folium.TileLayer('cartodbpositron').add_to(map)"
   ]
  },
  {
   "cell_type": "code",
   "execution_count": 228,
   "metadata": {
    "collapsed": false
   },
   "outputs": [
    {
     "data": {
      "text/plain": [
       "(28500, 111459.0, 134890.0, 157875.0)"
      ]
     },
     "execution_count": 228,
     "metadata": {},
     "output_type": "execute_result"
    }
   ],
   "source": [
    "min_val = j['1996_06'].min()\n",
    "q1 = j['1996_06'].quantile( .25)\n",
    "q2 = j['1996_06'].quantile( .5)\n",
    "q3 = j['1996_06'].quantile( .75)\n",
    "\n",
    "#help(map.choropleth)\n",
    "min_val,q1,q2,q3"
   ]
  },
  {
   "cell_type": "code",
   "execution_count": 229,
   "metadata": {
    "collapsed": false
   },
   "outputs": [],
   "source": [
    "map.choropleth(geo_str=geo_str,\n",
    "              data=data_f,\n",
    "              columns=['regionName', '1996_06'],\n",
    "              fill_color='YlOrRd',\n",
    "              key_on='feature.properties.regionName',\n",
    "              threshold_scale=[min_val, q1, q2, q3],\n",
    "              legend_name='Median of Sold Houses',\n",
    "              reset=True)"
   ]
  },
  {
   "cell_type": "code",
   "execution_count": 230,
   "metadata": {
    "collapsed": true
   },
   "outputs": [],
   "source": [
    "map.save('test.html')"
   ]
  },
  {
   "cell_type": "code",
   "execution_count": 231,
   "metadata": {
    "collapsed": false
   },
   "outputs": [
    {
     "data": {
      "text/plain": [
       "'0.2.1'"
      ]
     },
     "execution_count": 231,
     "metadata": {},
     "output_type": "execute_result"
    }
   ],
   "source": [
    "folium.__version__"
   ]
  },
  {
   "cell_type": "code",
   "execution_count": null,
   "metadata": {
    "collapsed": true
   },
   "outputs": [],
   "source": []
  }
 ],
 "metadata": {
  "kernelspec": {
   "display_name": "Python 2",
   "language": "python",
   "name": "python2"
  },
  "language_info": {
   "codemirror_mode": {
    "name": "ipython",
    "version": 2
   },
   "file_extension": ".py",
   "mimetype": "text/x-python",
   "name": "python",
   "nbconvert_exporter": "python",
   "pygments_lexer": "ipython2",
   "version": "2.7.12"
  }
 },
 "nbformat": 4,
 "nbformat_minor": 1
}
